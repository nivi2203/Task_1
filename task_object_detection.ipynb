{
 "cells": [
  {
   "cell_type": "code",
   "execution_count": 2,
   "id": "35cd9b3d",
   "metadata": {},
   "outputs": [],
   "source": [
    "import cv2"
   ]
  },
  {
   "cell_type": "code",
   "execution_count": 4,
   "id": "3da5f48e",
   "metadata": {},
   "outputs": [],
   "source": [
    "face_cascade = cv2.CascadeClassifier('C:/Users/Nivedita/Desktop/Task/haarcascade_frontalface_default.xml')\n",
    "\n",
    "#cap = cv2.VideoCapture(0) \n",
    "vd=cv2.VideoCapture(\"Two_people_conv.mp4\") \n",
    "while True: \n",
    "    \n",
    "    ret, frame = vd.read(0) \n",
    "    gray=cv2.cvtColor(frame,cv2.COLOR_BGR2GRAY)  # converted to gray\n",
    "    faces=face_cascade.detectMultiScale(gray,\n",
    "                              scaleFactor=1.1,\n",
    "                              minNeighbors=5,\n",
    "                              minSize=(30,30),\n",
    "                              flags=cv2.CASCADE_SCALE_IMAGE)\n",
    "   \n",
    "    #plot rectangle:\n",
    "    for (x,y,width,height)in faces :\n",
    "        cv2.rectangle(frame,(x,y),(x+width, y+height),(255,255,0),5) #BGR\n",
    "        \n",
    "    cv2.imshow(\"Faces\",frame)\n",
    "    if cv2.waitKey(1) ==ord(\"q\"):\n",
    "        break\n",
    "\n",
    "#camera.release()\n",
    "cv2.destroyAllWindows()\n"
   ]
  },
  {
   "cell_type": "code",
   "execution_count": null,
   "id": "2063f710",
   "metadata": {},
   "outputs": [],
   "source": []
  }
 ],
 "metadata": {
  "kernelspec": {
   "display_name": "Python 3 (ipykernel)",
   "language": "python",
   "name": "python3"
  },
  "language_info": {
   "codemirror_mode": {
    "name": "ipython",
    "version": 3
   },
   "file_extension": ".py",
   "mimetype": "text/x-python",
   "name": "python",
   "nbconvert_exporter": "python",
   "pygments_lexer": "ipython3",
   "version": "3.9.7"
  }
 },
 "nbformat": 4,
 "nbformat_minor": 5
}
